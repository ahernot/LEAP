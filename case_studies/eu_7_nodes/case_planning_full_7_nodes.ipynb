{
 "cells": [
  {
   "cell_type": "markdown",
   "id": "5b0d9ce1-e8a0-41a6-830e-f34e50f574f0",
   "metadata": {},
   "source": [
    "# Import area"
   ]
  },
  {
   "cell_type": "code",
   "execution_count": null,
   "id": "initial_id",
   "metadata": {
    "ExecuteTime": {
     "end_time": "2023-11-29T14:44:46.640505400Z",
     "start_time": "2023-11-29T14:44:46.106386700Z"
    }
   },
   "outputs": [],
   "source": [
    "import os\n",
    "from pathlib import Path\n",
    "\n",
    "# Check if the current directory is named \"eu_7_nodes\"\n",
    "current_path = Path.cwd()\n",
    "if current_path.name == \"eu_7_nodes\":\n",
    "    # Go two directories back\n",
    "    new_path = current_path.parent.parent\n",
    "    print(f\"Changing to directory: {new_path}\")\n",
    "    \n",
    "    # Change the current directory\n",
    "    os.chdir(new_path)\n",
    "    print(f\"Current directory after change: {Path.cwd()}\")\n",
    "else:\n",
    "    print(\"Current directory is not 'eu_7_nodes'. No change needed.\")\n",
    "    print(f\"Current directory: {current_path}\")\n"
   ]
  },
  {
   "cell_type": "code",
   "execution_count": null,
   "id": "a2af0492-1f6b-4c98-8e30-1b6a00edd0e1",
   "metadata": {
    "ExecuteTime": {
     "end_time": "2023-11-29T14:52:10.155376900Z",
     "start_time": "2023-11-29T14:52:09.700756600Z"
    }
   },
   "outputs": [],
   "source": [
    "import sys\n",
    "sys.path.extend(['.'])\n",
    "# import highspy # if using highs solver\n",
    "import linopy\n",
    "import pandas as pd\n",
    "\n",
    "pd.options.display.width = 0\n",
    "pd.set_option('display.max_rows', 500)\n",
    "pd.set_option('display.max_columns', 500)\n",
    "pd.set_option('display.width', 1000)\n",
    "\n",
    "from LEAP.f_graphicalTools import *\n",
    "from LEAP.f_demand_tools import *\n",
    "from LEAP.f_tools import *\n",
    "from LEAP.model_single_horizon_multi_energy import build_single_horizon_multi_energy_LEAP_model\n"
   ]
  },
  {
   "cell_type": "markdown",
   "id": "1922e8fb-e956-48e9-bd45-cc107ef931e6",
   "metadata": {},
   "source": [
    "## Study setup"
   ]
  },
  {
   "cell_type": "code",
   "execution_count": null,
   "id": "c5959e23-829b-42c1-a596-5626d23f08ca",
   "metadata": {},
   "outputs": [],
   "source": [
    "graphical_results_folder = \"case_studies/eu_7_nodes/graphical_results/\"\n",
    "if not os.path.exists(graphical_results_folder):\n",
    "    os.makedirs(graphical_results_folder)\n",
    "input_data_folder = \"case_studies/eu_7_nodes/data/\"\n",
    "download_input_data(input_data_folder)"
   ]
  },
  {
   "cell_type": "markdown",
   "id": "adc52308-c973-4ea1-a955-2a7519751415",
   "metadata": {},
   "source": [
    "# Model set-up"
   ]
  },
  {
   "cell_type": "markdown",
   "id": "c10eb791-f0d6-43cf-a9d9-001fe408c717",
   "metadata": {},
   "source": [
    "##  Study parameters"
   ]
  },
  {
   "cell_type": "code",
   "execution_count": null,
   "id": "3defb27735e06740",
   "metadata": {
    "collapsed": false,
    "jupyter": {
     "outputs_hidden": false
    }
   },
   "outputs": [],
   "source": [
    "\n",
    "\n",
    "selected_conversion_technology = ['old_nuke', 'new_nuke', 'wind_power_on_shore', 'wind_power_off_shore',\n",
    "                                  'ccgt', 'ocgt', \"demand_not_served\", 'hydro_river',\n",
    "                                  'hydro_reservoir', \"solar\", 'Curtailement']\n",
    "selected_storage_technology = ['storage_hydro', \"battery\"]\n",
    "scenario = \"reference\"  #'Nuke-' build your own scenarios with new excel sheets\n",
    "parameters = read_EAP_input_parameters(selected_area_to=None,\n",
    "                                       selected_conversion_technology=selected_conversion_technology,\n",
    "                                       selected_storage_technology=selected_storage_technology,\n",
    "                                       input_data_folder=input_data_folder,\n",
    "                                       file_id=\"EU_7_2050_\" + scenario,\n",
    "                                       is_storage=True, is_demand_management=True)\n",
    "\n",
    "parameters[\"operation_min_1h_ramp_rate\"].loc[{\"conversion_technology\": \"old_nuke\"}] = 0.25\n",
    "parameters[\"operation_max_1h_ramp_rate\"].loc[{\"conversion_technology\": \"old_nuke\"}] = 0.25\n",
    "#parameters[\"planning_conversion_max_capacity\"].loc[{\"conversion_technology\" :\"old_nuke\"}]=80000\n",
    "parameters[\"flexible_demand_to_optimise\"].to_dataframe().groupby([\"flexible_demand\", \"area_to\"]).sum() / 10 ** 6\n",
    "list(parameters.keys())\n",
    "\n"
   ]
  },
  {
   "cell_type": "markdown",
   "id": "19556911-4897-4752-bd7c-f3bcb96fe39a",
   "metadata": {},
   "source": [
    "## Run the model"
   ]
  },
  {
   "cell_type": "code",
   "execution_count": null,
   "id": "3d97d1e29f055c40",
   "metadata": {
    "collapsed": false,
    "jupyter": {
     "outputs_hidden": false
    }
   },
   "outputs": [],
   "source": [
    "\n",
    "#building model and solving the problem\n",
    "model = build_single_horizon_multi_energy_LEAP_model(parameters=parameters)\n",
    "model.solve(solver_name='gurobi')  ### gurobi = 7 minutes, highs = 24 hours, #xpress\n"
   ]
  },
  {
   "cell_type": "code",
   "execution_count": null,
   "id": "105257c52220f4ca",
   "metadata": {
    "collapsed": false,
    "jupyter": {
     "outputs_hidden": false
    }
   },
   "outputs": [],
   "source": [
    "\n",
    "#print results\n",
    "print(extractCosts_l(model))\n",
    "print(extractEnergyCapacity_l(model)['Capacity_GW'])\n",
    "print(extractEnergyCapacity_l(model)['Energy_TWh'])\n",
    "Battery_energy_in_TWh = \\\n",
    "extractEnergyCapacity_l(model)['Energy_TWh'].loc[(slice(None), slice(None), \"battery\", \"storage_in\")]['Energy_TWh']\n",
    "Battery_capacity_GW = \\\n",
    "extractEnergyCapacity_l(model)['Capacity_GW'].loc[(slice(None), slice(None), \"battery\", \"storage_capacity\")][\n",
    "    'Capacity_GW']\n",
    "Battery_energy_in_TWh * 1000 / (Battery_capacity_GW * 4)\n",
    "\n"
   ]
  },
  {
   "cell_type": "code",
   "execution_count": null,
   "id": "2098a7526db969dd",
   "metadata": {
    "collapsed": false,
    "jupyter": {
     "outputs_hidden": false
    }
   },
   "outputs": [],
   "source": [
    "# Read and save the solution of the model\n",
    "data = model.solution\n",
    "# Save the xarray dataset to a NetCDF file\n",
    "data.to_netcdf(graphical_results_folder + scenario+'_output.nc')\n",
    "\n"
   ]
  },
  {
   "cell_type": "markdown",
   "id": "214cfd07-e4d1-429c-a6d6-3bff8e708a47",
   "metadata": {},
   "source": [
    "# Results analysis"
   ]
  },
  {
   "cell_type": "code",
   "execution_count": null,
   "id": "4b1dd1a1-2ea0-49e4-be3c-2d85cb6a1245",
   "metadata": {},
   "outputs": [],
   "source": [
    "# Load model output\n",
    "data = xr.load_dataset(graphical_results_folder+ scenario+'_output.nc')\n"
   ]
  },
  {
   "cell_type": "code",
   "execution_count": null,
   "id": "c21433ca-1c82-4cc8-b2a4-adaae4fe16fa",
   "metadata": {},
   "outputs": [],
   "source": [
    "SystemMixPlot(data)"
   ]
  },
  {
   "cell_type": "code",
   "execution_count": null,
   "id": "7d2a619a-81a4-4efa-bf24-c3072b8d1bda",
   "metadata": {},
   "outputs": [],
   "source": [
    "EnergyMixPlot(data)"
   ]
  },
  {
   "cell_type": "code",
   "execution_count": null,
   "id": "2a39e878-a7cf-4a66-9ab3-ce2790fe3d7a",
   "metadata": {},
   "outputs": [],
   "source": [
    "ExchangesPlot(data)"
   ]
  },
  {
   "cell_type": "code",
   "execution_count": null,
   "id": "4de07763-f0ca-4a39-8677-54b30fda5b5e",
   "metadata": {},
   "outputs": [],
   "source": [
    "LoadFactorPlot(data)"
   ]
  },
  {
   "cell_type": "code",
   "execution_count": null,
   "id": "e932a316-b602-47ca-98c1-be3a0a40113c",
   "metadata": {},
   "outputs": [],
   "source": [
    "AreaHourlyProduction(data)"
   ]
  }
 ],
 "metadata": {
  "kernelspec": {
   "display_name": "Python 3 (ipykernel)",
   "language": "python",
   "name": "python3"
  },
  "language_info": {
   "codemirror_mode": {
    "name": "ipython",
    "version": 3
   },
   "file_extension": ".py",
   "mimetype": "text/x-python",
   "name": "python",
   "nbconvert_exporter": "python",
   "pygments_lexer": "ipython3",
   "version": "3.11.6"
  }
 },
 "nbformat": 4,
 "nbformat_minor": 5
}
