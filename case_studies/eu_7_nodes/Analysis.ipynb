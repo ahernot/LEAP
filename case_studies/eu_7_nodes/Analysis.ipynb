{
 "cells": [
  {
   "cell_type": "markdown",
   "id": "fc50292f-d0d8-4935-b19a-6f43d8b1d0ec",
   "metadata": {},
   "source": [
    "# Graphical functions"
   ]
  },
  {
   "cell_type": "markdown",
   "id": "86777f85-8e7d-4350-a7e4-d7e88f12db51",
   "metadata": {},
   "source": [
    "## Import Area"
   ]
  },
  {
   "cell_type": "code",
   "execution_count": null,
   "id": "d43c90bd-93fc-4010-b193-cddac576e0eb",
   "metadata": {},
   "outputs": [],
   "source": [
    "import os\n",
    "from pathlib import Path\n",
    "\n",
    "# Check if the current directory is named \"eu_7_nodes\"\n",
    "current_path = Path.cwd()\n",
    "if current_path.name == \"eu_7_nodes\":\n",
    "    # Go two directories back\n",
    "    new_path = current_path.parent.parent\n",
    "    print(f\"Changing to directory: {new_path}\")\n",
    "    \n",
    "    # Change the current directory\n",
    "    os.chdir(new_path)\n",
    "    print(f\"Current directory after change: {Path.cwd()}\")\n",
    "else:\n",
    "    print(\"Current directory is not 'eu_7_nodes'. No change needed.\")\n",
    "    print(f\"Current directory: {current_path}\")\n"
   ]
  },
  {
   "cell_type": "code",
   "execution_count": null,
   "id": "ffdd6f81-488f-4ef9-87ba-f7c35f6a5d2d",
   "metadata": {},
   "outputs": [],
   "source": [
    "import sys\n",
    "sys.path.extend(['.'])\n",
    "# import highspy # if using highs solver\n",
    "import linopy\n",
    "import pandas as pd\n",
    "\n",
    "pd.options.display.width = 0\n",
    "pd.set_option('display.max_rows', 500)\n",
    "pd.set_option('display.max_columns', 500)\n",
    "pd.set_option('display.width', 1000)\n",
    "\n",
    "from LEAP.f_graphicalTools import *\n",
    "from LEAP.f_demand_tools import *\n",
    "from LEAP.f_tools import *\n",
    "from LEAP.model_single_horizon_multi_energy import build_single_horizon_multi_energy_LEAP_model\n"
   ]
  },
  {
   "cell_type": "code",
   "execution_count": null,
   "id": "064360aa-737f-41f5-8268-3961c7e0d87f",
   "metadata": {},
   "outputs": [],
   "source": [
    "graphical_results_folder = \"case_studies/eu_7_nodes/graphical_results/\"\n"
   ]
  },
  {
   "cell_type": "markdown",
   "id": "f9b49182-d7b6-43bf-964a-36b437bdedc3",
   "metadata": {},
   "source": [
    "## Load a Scenario"
   ]
  },
  {
   "cell_type": "code",
   "execution_count": null,
   "id": "a4854d5e-61a7-415e-bf96-d31bed09e5d6",
   "metadata": {},
   "outputs": [],
   "source": [
    "scenario = \"reference\""
   ]
  },
  {
   "cell_type": "code",
   "execution_count": null,
   "id": "a02d99c1-e712-4c3f-81d3-de62484004ae",
   "metadata": {},
   "outputs": [],
   "source": [
    "# Load model output\n",
    "data = xr.load_dataset(graphical_results_folder + scenario+'_output.nc')\n"
   ]
  },
  {
   "cell_type": "markdown",
   "id": "be2fb2b9-59ba-4fdc-a982-b691d921ba6c",
   "metadata": {},
   "source": [
    "## Some Plots"
   ]
  },
  {
   "cell_type": "code",
   "execution_count": null,
   "id": "05c975cd-385d-440a-bb0d-418a65fa3000",
   "metadata": {},
   "outputs": [],
   "source": []
  },
  {
   "cell_type": "code",
   "execution_count": null,
   "id": "3b11d2e0-5686-4430-bc5e-9c7cad6c1a18",
   "metadata": {},
   "outputs": [],
   "source": [
    "AreaHourlyProduction(data)"
   ]
  },
  {
   "cell_type": "code",
   "execution_count": null,
   "id": "b351c741-8cfe-4875-a396-aed9ee5cec3a",
   "metadata": {},
   "outputs": [],
   "source": [
    "SystemMixPlot(data)"
   ]
  },
  {
   "cell_type": "code",
   "execution_count": null,
   "id": "0b11907a-b2e4-4ef8-bc90-fd7f43776066",
   "metadata": {},
   "outputs": [],
   "source": [
    "EnergyMixPlot(data)"
   ]
  },
  {
   "cell_type": "code",
   "execution_count": null,
   "id": "123ba244-2e30-4d4d-8d8c-69eb57978828",
   "metadata": {},
   "outputs": [],
   "source": [
    "LoadFactorPlot(data)"
   ]
  },
  {
   "cell_type": "code",
   "execution_count": null,
   "id": "09e3ca70-89cf-4734-8125-962486fa561b",
   "metadata": {},
   "outputs": [],
   "source": [
    "ExchangesPlot(data)"
   ]
  },
  {
   "cell_type": "code",
   "execution_count": null,
   "id": "ae37d772-c7f9-4c68-8f90-b84588e97a0d",
   "metadata": {},
   "outputs": [],
   "source": []
  }
 ],
 "metadata": {
  "kernelspec": {
   "display_name": "Python 3 (ipykernel)",
   "language": "python",
   "name": "python3"
  },
  "language_info": {
   "codemirror_mode": {
    "name": "ipython",
    "version": 3
   },
   "file_extension": ".py",
   "mimetype": "text/x-python",
   "name": "python",
   "nbconvert_exporter": "python",
   "pygments_lexer": "ipython3",
   "version": "3.11.6"
  }
 },
 "nbformat": 4,
 "nbformat_minor": 5
}
